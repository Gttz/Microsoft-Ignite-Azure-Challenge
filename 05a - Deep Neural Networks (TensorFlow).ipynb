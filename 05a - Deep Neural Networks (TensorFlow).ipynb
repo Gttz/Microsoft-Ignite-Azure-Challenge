{
 "cells": [
  {
   "cell_type": "markdown",
   "metadata": {},
   "source": [
    "# Deep Learning with TensorFlow\n",
    "\n",
    "Classical machine learning relies on using statistics to determine relationships between features and labels, and can be very effective for creating predictive models. However, a massive growth in the availability of data coupled with advances in the computing technology required to process it has led to the emergence of new machine learning techniques that mimic the way the brain processes information in a structure called an artificial neural network.\n",
    "\n",
    "TensorFlow is a framework for creating machine learning models, including deep neural networks (DNNs). In this example, we'll use Tensorflow to create a simple neural network that classifies penguins into species based on the length and depth of their culmen (bill), their flipper length, and their body mass.\n",
    "\n",
    "> **Citation**: The penguins dataset used in the this exercise is a subset of data collected and made available by [Dr. Kristen\n",
    "Gorman](https://www.uaf.edu/cfos/people/faculty/detail/kristen-gorman.php)\n",
    "and the [Palmer Station, Antarctica LTER](https://pal.lternet.edu/), a\n",
    "member of the [Long Term Ecological Research\n",
    "Network](https://lternet.edu/).\n",
    "\n",
    "## Explore the dataset\n",
    "\n",
    "Before we start using TensorFlow to create a model, let's load the data we need from the Palmer Islands penguins dataset, which contains observations of three different species of penguin.\n",
    "\n",
    "> **Note**: In reality, you can solve the penguin classification problem easily using classical machine learning techniques without the need for a deep learning model; but it's a useful, easy to understand dataset with which to demonstrate the principles of neural networks in this notebook."
   ]
  },
  {
   "cell_type": "code",
   "execution_count": 1,
   "metadata": {},
   "outputs": [
    {
     "data": {
      "text/html": [
       "<div>\n",
       "<style scoped>\n",
       "    .dataframe tbody tr th:only-of-type {\n",
       "        vertical-align: middle;\n",
       "    }\n",
       "\n",
       "    .dataframe tbody tr th {\n",
       "        vertical-align: top;\n",
       "    }\n",
       "\n",
       "    .dataframe thead th {\n",
       "        text-align: right;\n",
       "    }\n",
       "</style>\n",
       "<table border=\"1\" class=\"dataframe\">\n",
       "  <thead>\n",
       "    <tr style=\"text-align: right;\">\n",
       "      <th></th>\n",
       "      <th>CulmenLength</th>\n",
       "      <th>CulmenDepth</th>\n",
       "      <th>FlipperLength</th>\n",
       "      <th>BodyMass</th>\n",
       "      <th>Species</th>\n",
       "    </tr>\n",
       "  </thead>\n",
       "  <tbody>\n",
       "    <tr>\n",
       "      <th>338</th>\n",
       "      <td>45.7</td>\n",
       "      <td>17.0</td>\n",
       "      <td>19.5</td>\n",
       "      <td>36.50</td>\n",
       "      <td>2</td>\n",
       "    </tr>\n",
       "    <tr>\n",
       "      <th>312</th>\n",
       "      <td>47.6</td>\n",
       "      <td>18.3</td>\n",
       "      <td>19.5</td>\n",
       "      <td>38.50</td>\n",
       "      <td>2</td>\n",
       "    </tr>\n",
       "    <tr>\n",
       "      <th>165</th>\n",
       "      <td>48.4</td>\n",
       "      <td>14.6</td>\n",
       "      <td>21.3</td>\n",
       "      <td>58.50</td>\n",
       "      <td>1</td>\n",
       "    </tr>\n",
       "    <tr>\n",
       "      <th>134</th>\n",
       "      <td>38.1</td>\n",
       "      <td>17.6</td>\n",
       "      <td>18.7</td>\n",
       "      <td>34.25</td>\n",
       "      <td>0</td>\n",
       "    </tr>\n",
       "    <tr>\n",
       "      <th>71</th>\n",
       "      <td>39.7</td>\n",
       "      <td>18.4</td>\n",
       "      <td>19.0</td>\n",
       "      <td>39.00</td>\n",
       "      <td>0</td>\n",
       "    </tr>\n",
       "    <tr>\n",
       "      <th>52</th>\n",
       "      <td>35.0</td>\n",
       "      <td>17.9</td>\n",
       "      <td>19.0</td>\n",
       "      <td>34.50</td>\n",
       "      <td>0</td>\n",
       "    </tr>\n",
       "    <tr>\n",
       "      <th>281</th>\n",
       "      <td>45.2</td>\n",
       "      <td>17.8</td>\n",
       "      <td>19.8</td>\n",
       "      <td>39.50</td>\n",
       "      <td>2</td>\n",
       "    </tr>\n",
       "    <tr>\n",
       "      <th>341</th>\n",
       "      <td>49.6</td>\n",
       "      <td>18.2</td>\n",
       "      <td>19.3</td>\n",
       "      <td>37.75</td>\n",
       "      <td>2</td>\n",
       "    </tr>\n",
       "    <tr>\n",
       "      <th>70</th>\n",
       "      <td>33.5</td>\n",
       "      <td>19.0</td>\n",
       "      <td>19.0</td>\n",
       "      <td>36.00</td>\n",
       "      <td>0</td>\n",
       "    </tr>\n",
       "    <tr>\n",
       "      <th>198</th>\n",
       "      <td>45.5</td>\n",
       "      <td>13.9</td>\n",
       "      <td>21.0</td>\n",
       "      <td>42.00</td>\n",
       "      <td>1</td>\n",
       "    </tr>\n",
       "  </tbody>\n",
       "</table>\n",
       "</div>"
      ],
      "text/plain": [
       "     CulmenLength  CulmenDepth  FlipperLength  BodyMass  Species\n",
       "338          45.7         17.0           19.5     36.50        2\n",
       "312          47.6         18.3           19.5     38.50        2\n",
       "165          48.4         14.6           21.3     58.50        1\n",
       "134          38.1         17.6           18.7     34.25        0\n",
       "71           39.7         18.4           19.0     39.00        0\n",
       "52           35.0         17.9           19.0     34.50        0\n",
       "281          45.2         17.8           19.8     39.50        2\n",
       "341          49.6         18.2           19.3     37.75        2\n",
       "70           33.5         19.0           19.0     36.00        0\n",
       "198          45.5         13.9           21.0     42.00        1"
      ]
     },
     "execution_count": 1,
     "metadata": {},
     "output_type": "execute_result"
    }
   ],
   "source": [
    "import pandas as pd\n",
    "\n",
    "# load the training dataset (excluding rows with null values)\n",
    "penguins = pd.read_csv('data/penguins.csv').dropna()\n",
    "\n",
    "# Deep Learning models work best when features are on similar scales\n",
    "# In a real solution, we'd implement some custom normalization for each feature, but to keep things simple\n",
    "# we'll just rescale the FlipperLength and BodyMass so they're on a similar scale to the bill measurements\n",
    "penguins['FlipperLength'] = penguins['FlipperLength']/10\n",
    "penguins['BodyMass'] = penguins['BodyMass']/100\n",
    "\n",
    "# The dataset is too small to be useful for deep learning\n",
    "# So we'll oversample it to increase its size\n",
    "for i in range(1,3):\n",
    "    penguins = penguins.append(penguins)\n",
    "\n",
    "# Display a random sample of 10 observations\n",
    "sample = penguins.sample(10)\n",
    "sample"
   ]
  },
  {
   "cell_type": "markdown",
   "metadata": {},
   "source": [
    "The **Species** column is the label our model will predict. Each label value represents a class of penguin species, encoded as 0, 1, or 2. The following code shows the actual species to which these class labels corrrespond."
   ]
  },
  {
   "cell_type": "code",
   "execution_count": 2,
   "metadata": {
    "tags": []
   },
   "outputs": [
    {
     "name": "stdout",
     "output_type": "stream",
     "text": [
      "['CulmenLength' 'CulmenDepth' 'FlipperLength' 'BodyMass' 'Species'] SpeciesName\n",
      "[ 50.0 15.9 22.4 53.5 1 ] Gentoo\n",
      "[ 50.8 18.5 20.1 44.5 2 ] Chinstrap\n",
      "[ 44.9 13.3 21.3 51.0 1 ] Gentoo\n",
      "[ 38.6 17.2 19.9 37.5 0 ] Adelie\n",
      "[ 45.6 20.3 19.1 46.0 0 ] Adelie\n",
      "[ 46.8 15.4 21.5 51.5 1 ] Gentoo\n",
      "[ 49.1 14.8 22.0 51.5 1 ] Gentoo\n",
      "[ 47.2 13.7 21.4 49.25 1 ] Gentoo\n",
      "[ 47.3 13.8 21.6 47.25 1 ] Gentoo\n",
      "[ 42.9 13.1 21.5 50.0 1 ] Gentoo\n"
     ]
    }
   ],
   "source": [
    "penguin_classes = ['Adelie', 'Gentoo', 'Chinstrap']\n",
    "print(sample.columns[0:5].values, 'SpeciesName')\n",
    "for index, row in penguins.sample(10).iterrows():\n",
    "    print('[',row[0], row[1], row[2],row[3], int(row[4]), ']',penguin_classes[int(row[-1])])"
   ]
  },
  {
   "cell_type": "markdown",
   "metadata": {},
   "source": [
    "As is common in a supervised learning problem, we'll split the dataset into a set of records with which to train the model, and a smaller set with which to validate the trained model."
   ]
  },
  {
   "cell_type": "code",
   "execution_count": 3,
   "metadata": {
    "tags": []
   },
   "outputs": [
    {
     "name": "stdout",
     "output_type": "stream",
     "text": [
      "Training Set: 957, Test Set: 411 \n",
      "\n",
      "Sample of features and labels:\n",
      "[51.1 16.5 22.5 52.5] 1 (Gentoo)\n",
      "[50.7 19.7 20.3 40.5] 2 (Chinstrap)\n",
      "[49.5 16.2 22.9 58. ] 1 (Gentoo)\n",
      "[39.3 20.6 19.  36.5] 0 (Adelie)\n",
      "[42.5 20.7 19.7 45. ] 0 (Adelie)\n",
      "[50.  15.3 22.  55.5] 1 (Gentoo)\n",
      "[50.2  18.7  19.8  37.75] 2 (Chinstrap)\n",
      "[50.7 19.7 20.3 40.5] 2 (Chinstrap)\n",
      "[49.1  14.5  21.2  46.25] 1 (Gentoo)\n",
      "[43.2 16.6 18.7 29. ] 2 (Chinstrap)\n",
      "[38.8  17.6  19.1  32.75] 0 (Adelie)\n",
      "[37.8 17.1 18.6 33. ] 0 (Adelie)\n",
      "[45.8 14.2 21.9 47. ] 1 (Gentoo)\n",
      "[43.8 13.9 20.8 43. ] 1 (Gentoo)\n",
      "[36.  17.1 18.7 37. ] 0 (Adelie)\n",
      "[43.3 13.4 20.9 44. ] 1 (Gentoo)\n",
      "[36.  18.5 18.6 31. ] 0 (Adelie)\n",
      "[41.1  19.   18.2  34.25] 0 (Adelie)\n",
      "[33.1 16.1 17.8 29. ] 0 (Adelie)\n",
      "[40.9 13.7 21.4 46.5] 1 (Gentoo)\n",
      "[45.2 17.8 19.8 39.5] 2 (Chinstrap)\n",
      "[48.4 14.6 21.3 58.5] 1 (Gentoo)\n",
      "[43.6 13.9 21.7 49. ] 1 (Gentoo)\n",
      "[38.5  17.9  19.   33.25] 0 (Adelie)\n"
     ]
    }
   ],
   "source": [
    "from sklearn.model_selection import train_test_split\n",
    "\n",
    "features = ['CulmenLength','CulmenDepth','FlipperLength','BodyMass']\n",
    "label = 'Species'\n",
    "   \n",
    "# Split data 70%-30% into training set and test set\n",
    "x_train, x_test, y_train, y_test = train_test_split(penguins[features].values,\n",
    "                                                    penguins[label].values,\n",
    "                                                    test_size=0.30,\n",
    "                                                    random_state=0)\n",
    "\n",
    "print ('Training Set: %d, Test Set: %d \\n' % (len(x_train), len(x_test)))\n",
    "print(\"Sample of features and labels:\")\n",
    "\n",
    "# Take a look at the first 25 training features and corresponding labels\n",
    "for n in range(0,24):\n",
    "    print(x_train[n], y_train[n], '(' + penguin_classes[y_train[n]] + ')')"
   ]
  },
  {
   "cell_type": "markdown",
   "metadata": {},
   "source": [
    "The *features* are the measurements for each penguin observation, and the *label* is a numeric value that indicates the species of penguin that the observation represents (Adelie, Gentoo, or Chinstrap).\n",
    "\n",
    "## Install and import TensorFlow libraries\n",
    "\n",
    "Since we plan to use TensorFlow to create our penguin classifier, we'll need to run the following two cells to install and import the libraries we intend to use.\n",
    "\n",
    "> **Note** *Keras* is an abstraction layer over the base TensorFlow API. In most common machine learning scenarios, you can use Keras to simplify your code."
   ]
  },
  {
   "cell_type": "code",
   "execution_count": 4,
   "metadata": {
    "tags": []
   },
   "outputs": [
    {
     "name": "stdout",
     "output_type": "stream",
     "text": [
      "Libraries imported.\n",
      "Keras version: 2.2.4-tf\n",
      "TensorFlow version: 2.0.0\n"
     ]
    }
   ],
   "source": [
    "import tensorflow\n",
    "from tensorflow import keras\n",
    "from tensorflow.keras import models\n",
    "from tensorflow.keras.models import Sequential\n",
    "from tensorflow.keras.layers import Dense\n",
    "from tensorflow.keras import utils\n",
    "from tensorflow.keras import optimizers\n",
    "\n",
    "# Set random seed for reproducability\n",
    "tensorflow.random.set_seed(0)\n",
    "\n",
    "print(\"Libraries imported.\")\n",
    "print('Keras version:',keras.__version__)\n",
    "print('TensorFlow version:',tensorflow.__version__)"
   ]
  },
  {
   "cell_type": "markdown",
   "metadata": {},
   "source": [
    "## Prepare the data for TensorFlow\n",
    "\n",
    "We've already loaded our data and split it into training and validation datasets. However, we need to do some further data preparation so that our data will work correctly with TensorFlow. Specifically, we need to set the data type of our features to 32-bit floating point numbers, and specify that the labels represent categorical classes rather than numeric values."
   ]
  },
  {
   "cell_type": "code",
   "execution_count": 5,
   "metadata": {
    "tags": []
   },
   "outputs": [
    {
     "name": "stdout",
     "output_type": "stream",
     "text": [
      "Ready...\n"
     ]
    }
   ],
   "source": [
    "# Set data types for float features\n",
    "x_train = x_train.astype('float32')\n",
    "x_test = x_test.astype('float32')\n",
    "\n",
    "# Set data types for categorical labels\n",
    "y_train = utils.to_categorical(y_train)\n",
    "y_test = utils.to_categorical(y_test)\n",
    "print('Ready...')"
   ]
  },
  {
   "cell_type": "markdown",
   "metadata": {},
   "source": [
    "## Define a neural network\n",
    "\n",
    "Now we're ready to define our neural network. In this case, we'll create a network that consists of 3 fully-connected layers:\n",
    "* An input layer that receives an input value for each feature (in this case, the four penguin measurements) and applies a *ReLU* activation function.\n",
    "* A hidden layer that receives ten inputs and applies a *ReLU* activation function.\n",
    "* An output layer that uses a *SoftMax* activation function to generate an output for each penguin species (which represent the classification probabilities for each of the three possible penguin species). Softmax functions produce a vector with probability values that sum to 1."
   ]
  },
  {
   "cell_type": "code",
   "execution_count": 6,
   "metadata": {
    "tags": []
   },
   "outputs": [
    {
     "name": "stdout",
     "output_type": "stream",
     "text": [
      "Model: \"sequential\"\n",
      "_________________________________________________________________\n",
      "Layer (type)                 Output Shape              Param #   \n",
      "=================================================================\n",
      "dense (Dense)                (None, 10)                50        \n",
      "_________________________________________________________________\n",
      "dense_1 (Dense)              (None, 10)                110       \n",
      "_________________________________________________________________\n",
      "dense_2 (Dense)              (None, 3)                 33        \n",
      "=================================================================\n",
      "Total params: 193\n",
      "Trainable params: 193\n",
      "Non-trainable params: 0\n",
      "_________________________________________________________________\n",
      "None\n"
     ]
    }
   ],
   "source": [
    "# Define a classifier network\n",
    "hl = 10 # Number of hidden layer nodes\n",
    "\n",
    "model = Sequential()\n",
    "model.add(Dense(hl, input_dim=len(features), activation='relu'))\n",
    "model.add(Dense(hl, input_dim=hl, activation='relu'))\n",
    "model.add(Dense(len(penguin_classes), input_dim=hl, activation='softmax'))\n",
    "\n",
    "print(model.summary())"
   ]
  },
  {
   "cell_type": "markdown",
   "metadata": {},
   "source": [
    "## Train the model\n",
    "\n",
    "To train the model, we need to repeatedly feed the training values forward through the network, use a loss function to calculate the loss, use an optimizer to backpropagate the weight and bias value adjustments, and validate the model using the test data we withheld.\n",
    "\n",
    "To do this, we'll apply an Adam optimizer to a categorical cross-entropy loss function iteratively over 50 epochs."
   ]
  },
  {
   "cell_type": "code",
   "execution_count": 7,
   "metadata": {
    "scrolled": true,
    "tags": []
   },
   "outputs": [
    {
     "name": "stdout",
     "output_type": "stream",
     "text": [
      "Train on 957 samples, validate on 411 samples\n",
      "Epoch 1/50\n",
      "WARNING:tensorflow:Entity <function Function._initialize_uninitialized_variables.<locals>.initialize_variables at 0x000000013816FEE8> could not be transformed and will be executed as-is. Please report this to the AutoGraph team. When filing the bug, set the verbosity to 10 (on Linux, `export AUTOGRAPH_VERBOSITY=10`) and attach the full output. Cause: No module named 'tensorflow_core.estimator'\n",
      "WARNING: Entity <function Function._initialize_uninitialized_variables.<locals>.initialize_variables at 0x000000013816FEE8> could not be transformed and will be executed as-is. Please report this to the AutoGraph team. When filing the bug, set the verbosity to 10 (on Linux, `export AUTOGRAPH_VERBOSITY=10`) and attach the full output. Cause: No module named 'tensorflow_core.estimator'\n",
      "957/957 [==============================] - 1s 1ms/sample - loss: 23.7599 - accuracy: 0.1912 - val_loss: 11.1910 - val_accuracy: 0.2165\n",
      "Epoch 2/50\n",
      "957/957 [==============================] - 0s 211us/sample - loss: 4.9510 - accuracy: 0.2205 - val_loss: 1.5904 - val_accuracy: 0.1703\n",
      "Epoch 3/50\n",
      "957/957 [==============================] - 0s 255us/sample - loss: 1.2943 - accuracy: 0.2069 - val_loss: 1.1728 - val_accuracy: 0.3479\n",
      "Epoch 4/50\n",
      "957/957 [==============================] - 0s 195us/sample - loss: 1.1346 - accuracy: 0.3156 - val_loss: 1.1349 - val_accuracy: 0.3382\n",
      "Epoch 5/50\n",
      "957/957 [==============================] - 0s 209us/sample - loss: 1.0720 - accuracy: 0.4451 - val_loss: 1.0618 - val_accuracy: 0.4647\n",
      "Epoch 6/50\n",
      "957/957 [==============================] - 0s 192us/sample - loss: 1.0264 - accuracy: 0.5172 - val_loss: 1.0412 - val_accuracy: 0.5669\n",
      "Epoch 7/50\n",
      "957/957 [==============================] - 0s 193us/sample - loss: 1.0109 - accuracy: 0.5904 - val_loss: 1.0384 - val_accuracy: 0.5231\n",
      "Epoch 8/50\n",
      "957/957 [==============================] - 0s 224us/sample - loss: 1.0031 - accuracy: 0.6082 - val_loss: 1.0240 - val_accuracy: 0.5718\n",
      "Epoch 9/50\n",
      "957/957 [==============================] - 0s 200us/sample - loss: 0.9907 - accuracy: 0.6364 - val_loss: 1.0077 - val_accuracy: 0.6521\n",
      "Epoch 10/50\n",
      "957/957 [==============================] - 0s 216us/sample - loss: 0.9784 - accuracy: 0.6520 - val_loss: 0.9944 - val_accuracy: 0.6618\n",
      "Epoch 11/50\n",
      "957/957 [==============================] - 0s 174us/sample - loss: 0.9642 - accuracy: 0.6844 - val_loss: 0.9809 - val_accuracy: 0.6764\n",
      "Epoch 12/50\n",
      "957/957 [==============================] - 0s 243us/sample - loss: 0.9472 - accuracy: 0.7064 - val_loss: 0.9815 - val_accuracy: 0.5791\n",
      "Epoch 13/50\n",
      "957/957 [==============================] - 0s 192us/sample - loss: 0.9031 - accuracy: 0.6876 - val_loss: 0.8258 - val_accuracy: 0.7007\n",
      "Epoch 14/50\n",
      "957/957 [==============================] - 0s 190us/sample - loss: 0.7591 - accuracy: 0.7440 - val_loss: 0.7543 - val_accuracy: 0.7153\n",
      "Epoch 15/50\n",
      "957/957 [==============================] - 0s 216us/sample - loss: 0.6910 - accuracy: 0.7743 - val_loss: 0.6926 - val_accuracy: 0.7397\n",
      "Epoch 16/50\n",
      "957/957 [==============================] - 0s 185us/sample - loss: 0.6367 - accuracy: 0.7900 - val_loss: 0.6438 - val_accuracy: 0.7397\n",
      "Epoch 17/50\n",
      "957/957 [==============================] - 0s 176us/sample - loss: 0.5865 - accuracy: 0.7889 - val_loss: 0.6017 - val_accuracy: 0.7445\n",
      "Epoch 18/50\n",
      "957/957 [==============================] - 0s 175us/sample - loss: 0.5474 - accuracy: 0.7973 - val_loss: 0.5608 - val_accuracy: 0.7567\n",
      "Epoch 19/50\n",
      "957/957 [==============================] - 0s 191us/sample - loss: 0.5049 - accuracy: 0.8046 - val_loss: 0.5199 - val_accuracy: 0.7689\n",
      "Epoch 20/50\n",
      "957/957 [==============================] - 0s 190us/sample - loss: 0.4727 - accuracy: 0.8370 - val_loss: 0.4878 - val_accuracy: 0.7786\n",
      "Epoch 21/50\n",
      "957/957 [==============================] - 0s 191us/sample - loss: 0.4379 - accuracy: 0.8422 - val_loss: 0.4861 - val_accuracy: 0.7689\n",
      "Epoch 22/50\n",
      "957/957 [==============================] - 0s 176us/sample - loss: 0.4155 - accuracy: 0.8307 - val_loss: 0.4551 - val_accuracy: 0.7713\n",
      "Epoch 23/50\n",
      "957/957 [==============================] - 0s 190us/sample - loss: 0.3966 - accuracy: 0.8370 - val_loss: 0.4189 - val_accuracy: 0.8175\n",
      "Epoch 24/50\n",
      "957/957 [==============================] - 0s 192us/sample - loss: 0.3707 - accuracy: 0.8798 - val_loss: 0.4009 - val_accuracy: 0.7981\n",
      "Epoch 25/50\n",
      "957/957 [==============================] - 0s 211us/sample - loss: 0.3521 - accuracy: 0.8694 - val_loss: 0.3876 - val_accuracy: 0.9148\n",
      "Epoch 26/50\n",
      "957/957 [==============================] - 0s 224us/sample - loss: 0.3354 - accuracy: 0.8955 - val_loss: 0.3547 - val_accuracy: 0.8443\n",
      "Epoch 27/50\n",
      "957/957 [==============================] - 0s 204us/sample - loss: 0.3150 - accuracy: 0.9091 - val_loss: 0.3399 - val_accuracy: 0.8589\n",
      "Epoch 28/50\n",
      "957/957 [==============================] - 0s 242us/sample - loss: 0.2997 - accuracy: 0.9091 - val_loss: 0.3225 - val_accuracy: 0.9027\n",
      "Epoch 29/50\n",
      "957/957 [==============================] - 0s 210us/sample - loss: 0.2851 - accuracy: 0.9342 - val_loss: 0.3104 - val_accuracy: 0.8881\n",
      "Epoch 30/50\n",
      "957/957 [==============================] - 0s 193us/sample - loss: 0.2672 - accuracy: 0.9331 - val_loss: 0.2993 - val_accuracy: 0.8564\n",
      "Epoch 31/50\n",
      "957/957 [==============================] - 0s 192us/sample - loss: 0.2520 - accuracy: 0.9363 - val_loss: 0.2785 - val_accuracy: 0.9319\n",
      "Epoch 32/50\n",
      "957/957 [==============================] - 0s 191us/sample - loss: 0.2411 - accuracy: 0.9425 - val_loss: 0.2679 - val_accuracy: 0.9027\n",
      "Epoch 33/50\n",
      "957/957 [==============================] - 0s 204us/sample - loss: 0.2253 - accuracy: 0.9467 - val_loss: 0.2504 - val_accuracy: 0.9246\n",
      "Epoch 34/50\n",
      "957/957 [==============================] - 0s 181us/sample - loss: 0.2146 - accuracy: 0.9498 - val_loss: 0.2395 - val_accuracy: 0.9124\n",
      "Epoch 35/50\n",
      "957/957 [==============================] - 0s 191us/sample - loss: 0.1990 - accuracy: 0.9603 - val_loss: 0.2233 - val_accuracy: 0.9538\n",
      "Epoch 36/50\n",
      "957/957 [==============================] - 0s 209us/sample - loss: 0.1943 - accuracy: 0.9582 - val_loss: 0.2065 - val_accuracy: 0.9684\n",
      "Epoch 37/50\n",
      "957/957 [==============================] - 0s 191us/sample - loss: 0.1819 - accuracy: 0.9624 - val_loss: 0.2048 - val_accuracy: 0.9562\n",
      "Epoch 38/50\n",
      "957/957 [==============================] - 0s 223us/sample - loss: 0.1718 - accuracy: 0.9603 - val_loss: 0.2044 - val_accuracy: 0.9659\n",
      "Epoch 39/50\n",
      "957/957 [==============================] - 0s 190us/sample - loss: 0.1663 - accuracy: 0.9666 - val_loss: 0.1752 - val_accuracy: 0.9757\n",
      "Epoch 40/50\n",
      "957/957 [==============================] - 0s 247us/sample - loss: 0.1526 - accuracy: 0.9676 - val_loss: 0.1716 - val_accuracy: 0.9586\n",
      "Epoch 41/50\n",
      "957/957 [==============================] - 0s 238us/sample - loss: 0.1432 - accuracy: 0.9749 - val_loss: 0.1576 - val_accuracy: 0.9732\n",
      "Epoch 42/50\n",
      "957/957 [==============================] - 0s 259us/sample - loss: 0.1356 - accuracy: 0.9676 - val_loss: 0.1449 - val_accuracy: 0.9781\n",
      "Epoch 43/50\n",
      "957/957 [==============================] - 0s 194us/sample - loss: 0.1289 - accuracy: 0.9749 - val_loss: 0.1506 - val_accuracy: 0.9635\n",
      "Epoch 44/50\n",
      "957/957 [==============================] - 0s 176us/sample - loss: 0.1206 - accuracy: 0.9739 - val_loss: 0.1319 - val_accuracy: 0.9732\n",
      "Epoch 45/50\n",
      "957/957 [==============================] - 0s 191us/sample - loss: 0.1124 - accuracy: 0.9791 - val_loss: 0.1246 - val_accuracy: 0.9732\n",
      "Epoch 46/50\n",
      "957/957 [==============================] - 0s 191us/sample - loss: 0.1071 - accuracy: 0.9770 - val_loss: 0.1179 - val_accuracy: 0.9805\n",
      "Epoch 47/50\n",
      "957/957 [==============================] - 0s 279us/sample - loss: 0.1034 - accuracy: 0.9801 - val_loss: 0.1106 - val_accuracy: 0.9830\n",
      "Epoch 48/50\n",
      "957/957 [==============================] - 0s 188us/sample - loss: 0.1001 - accuracy: 0.9801 - val_loss: 0.1077 - val_accuracy: 0.9830\n",
      "Epoch 49/50\n",
      "957/957 [==============================] - 0s 196us/sample - loss: 0.0917 - accuracy: 0.9822 - val_loss: 0.1131 - val_accuracy: 0.9830\n",
      "Epoch 50/50\n",
      "957/957 [==============================] - 0s 187us/sample - loss: 0.0913 - accuracy: 0.9854 - val_loss: 0.1117 - val_accuracy: 0.9781\n"
     ]
    }
   ],
   "source": [
    "#hyper-parameters for optimizer\n",
    "learning_rate = 0.001\n",
    "opt = optimizers.Adam(lr=learning_rate)\n",
    "\n",
    "model.compile(loss='categorical_crossentropy',\n",
    "              optimizer=opt,\n",
    "              metrics=['accuracy'])\n",
    "\n",
    "# Train the model over 50 epochs using 10-observation batches and using the test holdout dataset for validation\n",
    "num_epochs = 50\n",
    "history = model.fit(x_train, y_train, epochs=num_epochs, batch_size=10, validation_data=(x_test, y_test))"
   ]
  },
  {
   "cell_type": "markdown",
   "metadata": {},
   "source": [
    "While the training process is running, let's try to understand what's happening:\n",
    "\n",
    "1. In each *epoch*, the full set of training data is passed forward through the network. There are four features for each observation, and four corresponding nodes in the input layer - so the features for each observation are passed as a vector of four values to that layer. However, for efficiency, the feature vectors are grouped into batches; so actually a matrix of multiple feature vectors is fed in each time.\n",
    "2. The matrix of feature values is processed by a function that performs a weighted sum using initialized weights and bias values. The result of this function is then processed by the activation function for the input layer to constrain the values passed to the nodes in the next layer.\n",
    "3. The weighted sum and activation functions are repeated in each layer. Note that the functions operate on vectors and matrices rather than individual scalar values. In other words, the forward pass is essentially a series of nested linear algebra functions. This is the reason data scientists prefer to use computers with graphical processing units (GPUs), since these are optimized for matrix and vector calculations.\n",
    "4. In the final layer of the network, the output vectors contain a probability value for each possible class (in this case, classes 0, 1, and 2). This vector is processed by a *loss function* to determine how far the values calculated by the network are from the actual values - so for example, suppose the output for a Gentoo penguin (class 1) observation is \\[0.3, 0.4, 0.3\\]. The correct prediction should be \\[0.0, 1.0, 0.0\\], so the variance between the predicted and actual values (how far away the each predicted value is from what it should be) is \\[0.3, 0.6, 0.3\\]. This variance is aggregated for each batch and maintained as a running aggregate to calculate the overall level of error (*loss*) incurred by the training data for the epoch. The accuracy (proportion of correct predictions based on the highest probability value in the output vector) for the training data is also calculated.\n",
    "5. At the end of each epoch, the validation data is passed through the network, and its loss and accuracy are also calculated. It's important to do this because it enables us to compare the performance of the model using data on which it was not trained, helping us determine if it will generalize well for new data or if it's *overfitted* to the training data.\n",
    "6. After all the data has been passed forward through the network, the output of the loss function for the *training* data (but <u>not</u> the *validation* data) is passed to the opimizer. The precise details of how the optimizer processes the loss vary depending on the specific optimization algorithm being used; but fundamentally you can think of the entire network, from the input layer to the loss function as being one big nested (*composite*) function. The optimizer applies some differential calculus to calculate *partial derivatives* for the function with respect to each weight and bias value that was used in the network. It's possible to do this efficiently for a nested function due to something called the *chain rule*, which enables you to determine the derivative of a composite function from the derivatives of its inner function and outer functions. You don't really need to worry about the details of the math here (the optimizer does it for you), but the end result is that the partial derivatives tell us about the slope (or *gradient*) of the loss function with respect to each weight and bias value - in other words, we can determine whether to increase or decrease the weight and bias values in order to decrease the loss.\n",
    "7. Having determined in which direction to adjust the weights and biases, the optimizer uses the *learning rate* to determine by how much to adjust them; and then works backwards through the network in a process called *backpropagation* to assign new values to the weights and biases in each layer.\n",
    "8. Now the next epoch repeats the whole training, validation, and backpropagation process starting with the revised weights and biases from the previous epoch - which hopefully will result in a lower level of loss.\n",
    "9. The process continues like this for 50 epochs.\n",
    "\n",
    "## Review training and validation loss\n",
    "\n",
    "After training is complete, we can examine the loss metrics we recorded while training and validating the model. We're really looking for two things:\n",
    "* The loss should reduce with each epoch, showing that the model is learning the right weights and biases to predict the correct labels.\n",
    "* The training loss and validation loss should follow a similar trend, showing that the model is not overfitting to the training data.\n",
    "\n",
    "Let's plot the loss metrics and see:"
   ]
  },
  {
   "cell_type": "code",
   "execution_count": 8,
   "metadata": {},
   "outputs": [
    {
     "data": {
      "image/png": "[encoded data removed]",
      "text/plain": [
       "<Figure size 432x288 with 1 Axes>"
      ]
     },
     "metadata": {
      "needs_background": "light"
     },
     "output_type": "display_data"
    }
   ],
   "source": [
    "%matplotlib inline\n",
    "from matplotlib import pyplot as plt\n",
    "\n",
    "epoch_nums = range(1,num_epochs+1)\n",
    "training_loss = history.history[\"loss\"]\n",
    "validation_loss = history.history[\"val_loss\"]\n",
    "plt.plot(epoch_nums, training_loss)\n",
    "plt.plot(epoch_nums, validation_loss)\n",
    "plt.xlabel('epoch')\n",
    "plt.ylabel('loss')\n",
    "plt.legend(['training', 'validation'], loc='upper right')\n",
    "plt.show()"
   ]
  },
  {
   "cell_type": "markdown",
   "metadata": {},
   "source": [
    "## View the learned weights and biases\n",
    "\n",
    "The trained model consists of the final weights and biases that were determined by the optimizer during training. Based on our network model we should expect the following values for each layer:\n",
    "* Layer 1: There are four input values going to ten output nodes, so there should be 4 x 10 weights and 10 bias values.\n",
    "* Layer 2: There are ten input values going to ten output nodes, so there should be 10 x 10 weights and 10 bias values.\n",
    "* Layer 3: There are ten input values going to three output nodes, so there should be 10 x 3 weights and 3 bias values."
   ]
  },
  {
   "cell_type": "code",
   "execution_count": 9,
   "metadata": {
    "tags": []
   },
   "outputs": [
    {
     "name": "stdout",
     "output_type": "stream",
     "text": [
      "------------\n",
      "Weights:\n",
      " [[-0.27236846 -0.3841947   0.03062605  0.08020484 -0.10909867  0.05270364\n",
      "  -0.19008516  0.8494964   0.35024747 -0.4905011 ]\n",
      " [ 0.27471453  0.21265197  0.07888939 -0.17707926 -0.10406601  0.8029728\n",
      "   0.34702316 -0.05471756 -0.59930766 -0.5447268 ]\n",
      " [-0.28836262 -0.634329    0.2806489   0.34767175  0.23550075 -0.00852028\n",
      "   0.14502335 -0.79639685 -0.52202445  0.3296095 ]\n",
      " [-0.42851955 -0.24623463 -0.2888091  -0.5230521  -0.43773973  0.36775622\n",
      "  -0.07791725  0.24133506  0.75629026 -0.4691702 ]] \n",
      "Biases:\n",
      " [ 0.          0.         -0.01576086  0.          0.          0.2047247\n",
      " -0.19274737 -0.26173243 -0.31808272  0.        ]\n",
      "------------\n",
      "Weights:\n",
      " [[ 0.0607031  -0.30530828  0.39975524  0.3037489   0.15896738  0.03326017\n",
      "  -0.53190327  0.40915883 -0.03316814 -0.1240823 ]\n",
      " [ 0.42301047  0.14984506 -0.54566675  0.3919103  -0.4295466   0.50397205\n",
      "  -0.31616646  0.17803025 -0.41518384 -0.38429344]\n",
      " [ 0.5336163   0.37752342 -0.46583408  0.17206895 -0.04215616  0.5297911\n",
      "   0.4405172   0.27840212  0.26189038 -0.2233491 ]\n",
      " [-0.04491103  0.19579428 -0.26655364  0.17358297  0.3112036   0.53520477\n",
      "  -0.3109483  -0.5284722  -0.00098199 -0.44063687]\n",
      " [ 0.5135      0.39074183  0.39206952 -0.03048635  0.02663547  0.20555359\n",
      "   0.09307003  0.24590033 -0.49007446 -0.2917699 ]\n",
      " [ 0.5034199  -0.3901862   0.60639334  0.29417115 -0.26569188 -0.5313456\n",
      "   0.41922626 -0.15646933  0.00596587 -0.04660249]\n",
      " [ 0.26545775 -0.19090915  0.08759995 -0.30627972  0.12806404 -0.38203925\n",
      "  -0.21515067  0.41260028  0.2590712  -0.49726105]\n",
      " [-0.4386542  -0.21495155 -0.14117    -0.46094683 -0.20800981  0.3025053\n",
      "  -0.010482    0.41068938  0.27807775 -0.25934544]\n",
      " [-0.5079543  -0.4176368  -0.24295396 -0.49696004 -0.27225545 -0.38996994\n",
      "  -0.40516317  0.16841282 -0.26156986  0.22747415]\n",
      " [ 0.32320213 -0.30822456 -0.37115166  0.45703936 -0.35191107  0.24120325\n",
      "  -0.2000556   0.23292273 -0.33508268 -0.51532805]] \n",
      "Biases:\n",
      " [-0.03110153  0.          0.43931293  0.          0.          0.\n",
      "  0.12020442 -0.29533243 -0.30338764 -0.01601003]\n",
      "------------\n",
      "Weights:\n",
      " [[-0.39592108  0.3263283  -0.03477547]\n",
      " [ 0.50995994 -0.12620813 -0.6595991 ]\n",
      " [ 0.53173053  0.03038078 -0.21311024]\n",
      " [ 0.54463303 -0.50025463  0.06109887]\n",
      " [ 0.26757038 -0.67376095 -0.18467396]\n",
      " [ 0.08888024 -0.2536324   0.20257705]\n",
      " [ 1.1532634  -1.580792    0.6387458 ]\n",
      " [-0.48983648  0.3874671   0.19940291]\n",
      " [-0.5291239  -0.34663084  0.6847102 ]\n",
      " [ 0.6403194  -0.61231196 -0.03168887]] \n",
      "Biases:\n",
      " [ 0.33812425  0.3818242  -0.458735  ]\n"
     ]
    }
   ],
   "source": [
    "for layer in model.layers:\n",
    "    weights = layer.get_weights()[0]\n",
    "    biases = layer.get_weights()[1]\n",
    "    print('------------\\nWeights:\\n',weights,'\\nBiases:\\n', biases)"
   ]
  },
  {
   "cell_type": "markdown",
   "metadata": {},
   "source": [
    "## Evaluate model performance\n",
    "\n",
    "So, is the model any good? The raw accuracy reported from the validation data would seem to indicate that it predicts pretty well; but it's typically useful to dig a little deeper and compare the predictions for each possible class. A common way to visualize the performace of a classification model is to create a *confusion matrix* that shows a crosstab of correct and incorrect predictions for each class."
   ]
  },
  {
   "cell_type": "code",
   "execution_count": 10,
   "metadata": {},
   "outputs": [
    {
     "data": {
      "image/png": "[encoded data removed]",
      "text/plain": [
       "<Figure size 432x288 with 2 Axes>"
      ]
     },
     "metadata": {
      "needs_background": "light"
     },
     "output_type": "display_data"
    }
   ],
   "source": [
    "# Tensorflow doesn't have a built-in confusion matrix metric, so we'll use SciKit-Learn\n",
    "import numpy as np\n",
    "from sklearn.metrics import confusion_matrix\n",
    "import matplotlib.pyplot as plt\n",
    "%matplotlib inline\n",
    "\n",
    "\n",
    "class_probabilities = model.predict(x_test)\n",
    "predictions = np.argmax(class_probabilities, axis=1)\n",
    "true_labels = np.argmax(y_test, axis=1)\n",
    "\n",
    "# Plot the confusion matrix\n",
    "cm = confusion_matrix(true_labels, predictions)\n",
    "plt.imshow(cm, interpolation=\"nearest\", cmap=plt.cm.Blues)\n",
    "plt.colorbar()\n",
    "tick_marks = np.arange(len(penguin_classes))\n",
    "plt.xticks(tick_marks, penguin_classes, rotation=85)\n",
    "plt.yticks(tick_marks, penguin_classes)\n",
    "plt.xlabel(\"Actual Class\")\n",
    "plt.ylabel(\"Predicted Class\")\n",
    "plt.show()"
   ]
  },
  {
   "cell_type": "markdown",
   "metadata": {},
   "source": [
    "The confusion matrix should show a strong diagonal line indicating that there are more correct than incorrect predictions for each class.\n",
    "\n",
    "## Save the trained model\n",
    "Now that we have a model we believe is reasonably accurate, we can save its trained weights for use later."
   ]
  },
  {
   "cell_type": "code",
   "execution_count": 11,
   "metadata": {},
   "outputs": [
    {
     "name": "stdout",
     "output_type": "stream",
     "text": [
      "model saved as models/penguin-classifier.h5\n"
     ]
    }
   ],
   "source": [
    "# Save the trained model\n",
    "modelFileName = 'models/penguin-classifier.h5'\n",
    "model.save(modelFileName)\n",
    "del model  # deletes the existing model variable\n",
    "print('model saved as', modelFileName)"
   ]
  },
  {
   "cell_type": "markdown",
   "metadata": {},
   "source": [
    "## Use the trained model\n",
    "\n",
    "When we have a new penguin observation, we can use the model to predict the species."
   ]
  },
  {
   "cell_type": "code",
   "execution_count": 12,
   "metadata": {
    "tags": []
   },
   "outputs": [
    {
     "name": "stdout",
     "output_type": "stream",
     "text": [
      "New sample: [[50.4 15.3 20.  50. ]]\n",
      "Gentoo\n"
     ]
    }
   ],
   "source": [
    "# Load the saved model\n",
    "model = models.load_model(modelFileName)\n",
    "\n",
    "# CReate a new array of features\n",
    "x_new = np.array([[50.4,15.3,20,50]])\n",
    "print ('New sample: {}'.format(x_new))\n",
    "\n",
    "# Use the model to predict the class\n",
    "class_probabilities = model.predict(x_new)\n",
    "predictions = np.argmax(class_probabilities, axis=1)\n",
    "\n",
    "print(penguin_classes[predictions[0]])"
   ]
  },
  {
   "cell_type": "markdown",
   "metadata": {},
   "source": [
    "## Learn more\n",
    "\n",
    "This notebook was designed to help you understand the basic concepts and principles involved in deep neural networks, using a simple Tensorflow example. To learn more about Tensorflow, take a look at the <a href=\"https://www.tensorflow.org/\" target=\"_blank\">Tensorflow web site</a>."
   ]
  }
 ],
 "metadata": {
  "kernelspec": {
   "display_name": "Python 3",
   "language": "python",
   "name": "python3"
  },
  "language_info": {
   "codemirror_mode": {
    "name": "ipython",
    "version": 3
   },
   "file_extension": ".py",
   "mimetype": "text/x-python",
   "name": "python",
   "nbconvert_exporter": "python",
   "pygments_lexer": "ipython3",
   "version": "3.7.4"
  }
 },
 "nbformat": 4,
 "nbformat_minor": 2
}
